{
 "cells": [
  {
   "cell_type": "markdown",
   "id": "5757fa19-dce0-489a-aaf6-0f31b02a0101",
   "metadata": {},
   "source": [
    "# Creating a Calculator in Python"
   ]
  },
  {
   "cell_type": "markdown",
   "id": "b7494d94-b2cd-4941-9413-269ad05be92c",
   "metadata": {
    "tags": []
   },
   "source": [
    "### Evaluating mathematical expressions with the function eval()\n",
    "\n",
    "Python is a useful tool to evaluate mathmatical expressions thanks to the eval() function. "
   ]
  },
  {
   "cell_type": "code",
   "execution_count": 1,
   "id": "7f343f3f-36e6-4c07-a764-e620144ec714",
   "metadata": {},
   "outputs": [
    {
     "name": "stdout",
     "output_type": "stream",
     "text": [
      "15\n"
     ]
    }
   ],
   "source": [
    "Number = eval ( '5 * 3' )\n",
    "print(Number)"
   ]
  },
  {
   "cell_type": "markdown",
   "id": "178a1bf7-640d-4eb8-8fc2-d12ca6c6d22e",
   "metadata": {},
   "source": [
    "### Why not use Eval function?\n",
    "- it's insecure depending on its use in a program.\n",
    "    - if your input is insecure, it could affect the security of the program. \n",
    "- Can make debugging difficult\n",
    "- Can make executable actions slow. \n",
    "- Other reason to ask JM :  'dynamically execute arbitrary Python code' in eval is a security risk. Why?\n",
    "    \n",
    "Sources: \n",
    "\n",
    "https://realpython.com/python-eval-function/\n",
    "\n",
    "https://nedbatchelder.com/blog/201206/eval_really_is_dangerous.html\n",
    "\n",
    "https://stackoverflow.com/questions/1832940/why-is-using-eval-a-bad-practice#:~:text=The%20point%20of%20all%20this,t%20need%20to%20use%20it.\n",
    "\n",
    "https://realpython.com/python-eval-function/#understanding-pythons-eval"
   ]
  },
  {
   "cell_type": "markdown",
   "id": "eb51218f-5ed8-4cc5-bad3-3185a5dc4a89",
   "metadata": {},
   "source": [
    "### First step: Figure out how to recreate operations via customized functions\n",
    "\n",
    "Mathematical operations cannot be executed when the expression is in string form. Therefore it is necessary to convert into a form that can be executed via **integer** or **float.** The following functions demonstrate how to break up a string with two elements into integers for mathmatical evaluation. There are other methods but we opted for the following method in order to understand the transformation from strings to integes. \n",
    "\n",
    "Source:\n",
    "\n",
    "https://www.thecrazyprogrammer.com/2017/04/python-program-add-two-numbers.html\n"
   ]
  },
  {
   "cell_type": "markdown",
   "id": "c7262bf4-abfc-4af2-bdf6-b2b6cc32661a",
   "metadata": {},
   "source": [
    "Advice: Needs to recreate PEMDAS operations , advice: parsing out the integers and then do the operators, also make test driven code"
   ]
  },
  {
   "cell_type": "code",
   "execution_count": 32,
   "id": "3d4b171e-93e4-4c74-935b-59eb726485c7",
   "metadata": {},
   "outputs": [
    {
     "name": "stdout",
     "output_type": "stream",
     "text": [
      "The sum for X is 3\n"
     ]
    }
   ],
   "source": [
    "def calculate_sum_for(first,second):\n",
    "      return int(first) + int(second)\n",
    "#2\n",
    "first = \"1\"\n",
    "second = \"2\"\n",
    "#3\n",
    "print(\"The sum for X is\",calculate_sum_for(first,second))"
   ]
  },
  {
   "cell_type": "code",
   "execution_count": 33,
   "id": "287021ff-36bc-4212-8057-8a89bba504d8",
   "metadata": {},
   "outputs": [
    {
     "name": "stdout",
     "output_type": "stream",
     "text": [
      "The sum for X is 1\n"
     ]
    }
   ],
   "source": [
    "def calculate_subtraction_for(first,second):\n",
    "      return int(first) - int(second)\n",
    "#2\n",
    "first = \"2\"\n",
    "second = \"1\"\n",
    "#3\n",
    "print(\"The sum for X is\",calculate_subtraction_for(first,second))"
   ]
  },
  {
   "cell_type": "code",
   "execution_count": 35,
   "id": "4871becb-6b27-4928-abe3-d99658071262",
   "metadata": {
    "tags": []
   },
   "outputs": [
    {
     "name": "stdout",
     "output_type": "stream",
     "text": [
      "The multiplication for X is 15\n"
     ]
    }
   ],
   "source": [
    "def calculate_multiply_for(first,second):\n",
    "      return int(first) * int(second)\n",
    "#2\n",
    "first = \"5\"\n",
    "second = \"3\"\n",
    "#3\n",
    "print(\"The multiplication for X is\",calculate_multiply_for(first,second))"
   ]
  },
  {
   "cell_type": "code",
   "execution_count": 42,
   "id": "2a88fcfa-3615-470f-abe9-b86e15185a0e",
   "metadata": {},
   "outputs": [
    {
     "name": "stdout",
     "output_type": "stream",
     "text": [
      "The multiplication and subtraction of three numbers are 11\n"
     ]
    }
   ],
   "source": [
    "def multiply_subtract(first,second,third):\n",
    "    return int(first) * int(second) - int(third)\n",
    "#2\n",
    "first = \"4\"\n",
    "second = \"3\"\n",
    "third = \"1\"\n",
    "#3\n",
    "print(\"The multiplication and subtraction of three numbers are\",multiply_subtract(first,second,third))"
   ]
  },
  {
   "cell_type": "markdown",
   "id": "00103d8f-80f4-4a08-952f-8f79c48bc235",
   "metadata": {
    "tags": []
   },
   "source": [
    "We also created a function to satisfy paranthese type operations. We also discovered that Python has established an order of operations protocol called PEMDAS in order for the language to interpret correctly mathmatical rules when it uses mathematical functions such as **eval()**. Another challenge of this project is to re-incorporate these type operations manually into our code. \n",
    "\n",
    "Sources: \n",
    "\n",
    "http://www.easypythondocs.com/arithmetic.html\n",
    "\n",
    "http://www.easypythondocs.com/arithmetic.html"
   ]
  },
  {
   "cell_type": "code",
   "execution_count": 2,
   "id": "5c3382bb-1025-4d6b-b9ca-161ceef5e37f",
   "metadata": {},
   "outputs": [
    {
     "name": "stdout",
     "output_type": "stream",
     "text": [
      "The multiplication and subtraction of three numbers are 5\n"
     ]
    }
   ],
   "source": [
    "## a x (b + c) = '1 * (2 + 3)'= 5\n",
    "\n",
    "def math_parantheses_operation(first,second,third):\n",
    "    return int(first) * (int(second) + int(third)) \n",
    "#2\n",
    "first = \"1\"\n",
    "second = \"2\"\n",
    "third = \"3\"\n",
    "#3\n",
    "print(\"The multiplication and subtraction of three numbers are\",math_parantheses_operation(first,second,third))"
   ]
  },
  {
   "cell_type": "markdown",
   "id": "68fed0fc-cec4-4fd3-b0d5-62bcabbffd7a",
   "metadata": {},
   "source": [
    "### Parsing\n",
    "Notes from other links:\n",
    "    - Parse strings via a 'tree'\n",
    "    - use the concepts of tokens to split things up \n",
    "    - Create a dictionary or class of operations\n",
    "    \n",
    "    \n",
    "Links:\n",
    "\n",
    "Solution for getting rid of eval:\n",
    "\n",
    "https://stackoverflow.com/questions/38860682/evaluating-a-mathematical-expression-without-eval-on-python3\n",
    "https://stackoverflow.com/questions/62902096/how-to-evaluate-a-user-input-of-a-string-as-a-math-expression-without-using-eval\n",
    "\n",
    "Parsing and printing out more complicated mathematical expressions ( seems more complex than necessary)\n",
    "https://nerdparadise.com/programming/parsemathexpr\n",
    "\n",
    "Parsing out in 50 or 70 lines\n",
    "https://erezsh.wordpress.com/2012/11/18/how-to-write-a-calculator-in-50-python-lines-without-eval/\n",
    "https://erezsh.wordpress.com/2013/02/24/how-to-write-a-calculator-in-70-python-lines-by-writing-a-recursive-descent-parser/\n",
    "\n",
    "Recursive parser youtube: https://www.youtube.com/watch?v=3ajvrOAydFI\n",
    "\n",
    "What is a tree\n",
    "https://www.tutorialspoint.com/python_data_structure/python_binary_tree.htm\n",
    "\n",
    "Link from Medium that could be useful:\n",
    "https://gist.github.com/qiuyujx/fd285e2a2638978ae08f0b5c3eae54ab\n",
    "\n",
    "Other links:\n",
    "https://www.youtube.com/watch?v=Lc6VTJafYFw\n",
    "https://github.com/gnebehay/parser"
   ]
  },
  {
   "cell_type": "markdown",
   "id": "1f476d0a-8fb4-4f1b-a82f-d74a204e09d0",
   "metadata": {},
   "source": [
    "https://www.tutorialspoint.com/program-to-add-two-numbers-represented-as-strings-in-python\n",
    "\n",
    "https://www.reddit.com/r/learnpython/comments/l1ybvx/making_a_pemdas_calculator/  - this is useful\n",
    "\n",
    "https://stackoverflow.com/questions/30841750/adding-strings-as-integers-from-two-lists\n"
   ]
  },
  {
   "cell_type": "markdown",
   "id": "494ea335-0480-4394-adbd-2f65fe394414",
   "metadata": {},
   "source": [
    "Youtube Link: https://www.youtube.com/watch?v=UBavyaQniOI\n"
   ]
  },
  {
   "cell_type": "markdown",
   "id": "0cfae4de-737d-4ec6-91d1-4ebea54517a3",
   "metadata": {},
   "source": [
    "- Inverse the recursive pattern\n",
    "- Create a grammar to scan the tokens \n",
    "- Create a class of tokens in order to store values from the input "
   ]
  },
  {
   "cell_type": "markdown",
   "id": "e33d063f-c1d7-462f-87bb-626a1ec721bb",
   "metadata": {},
   "source": [
    "### Code Proposal with commentary"
   ]
  },
  {
   "cell_type": "code",
   "execution_count": 33,
   "id": "2efbeb4d-d9d1-4287-a0ea-c45ce6dccb64",
   "metadata": {},
   "outputs": [
    {
     "name": "stdout",
     "output_type": "stream",
     "text": [
      "7\n",
      "1\n",
      "19\n",
      "3\n"
     ]
    }
   ],
   "source": [
    "# A really simple expression evaluator supporting the\n",
    "# four basic math functions, parentheses, and variables.\n",
    "\n",
    "class Parser: #parser: strings needs to be seperated and transformed into functions in order to \n",
    "    def __init__(self, string, vars={}): #vars is for var() function\n",
    "        self.string = string\n",
    "        self.index = 0\n",
    "        for var in vars.keys():\n",
    "            if self.vars.get(var) != None:\n",
    "                raise Exception(\"Cannot redefine the value of \" + var)\n",
    "            self.vars[var] = vars[var]\n",
    "    \n",
    "    def getValue(self):\n",
    "        value = self.parseExpression()\n",
    "        self.skipWhitespace()\n",
    "        if self.hasNext():\n",
    "            raise Exception(\n",
    "                \"Unexpected character found: '\" +\n",
    "                self.peek() +\n",
    "                \"' at index \" +\n",
    "                str(self.index))\n",
    "        return value\n",
    "#peek is used to help the program pick the topmost element in a stack.\n",
    "#Will need to explain what is a stack with a slide and explain why it is essential in order for the calculator\n",
    "# to evaluate the mathematical expression correctly \n",
    "    def peek(self):\n",
    "        return self.string[self.index:self.index + 1]\n",
    "    \n",
    "    def hasNext(self):\n",
    "        return self.index < len(self.string)\n",
    "    \n",
    "    def skipWhitespace(self):\n",
    "        while self.hasNext():\n",
    "            if self.peek() in ' \\t\\n\\r':\n",
    "                self.index += 1\n",
    "            else:\n",
    "                return\n",
    "    \n",
    "    def parseExpression(self):\n",
    "        return self.parseAddition()\n",
    "    \n",
    "    def parseAddition(self):\n",
    "        values = [self.parseMultiplication()]\n",
    "        while True:\n",
    "            self.skipWhitespace()\n",
    "            char = self.peek()\n",
    "            if char == '+':\n",
    "                self.index += 1\n",
    "                values.append(self.parseMultiplication())\n",
    "            elif char == '-':\n",
    "                self.index += 1\n",
    "                values.append(-1 * self.parseMultiplication())\n",
    "            else:\n",
    "                break\n",
    "        return sum(values)\n",
    "    \n",
    "    def parseMultiplication(self):\n",
    "        values = [self.parseParenthesis()]\n",
    "        while True:\n",
    "            self.skipWhitespace()\n",
    "            char = self.peek()\n",
    "            if char == '*':\n",
    "                self.index += 1\n",
    "                values.append(self.parseParenthesis())\n",
    "            elif char == '/':\n",
    "                div_index = self.index\n",
    "                self.index += 1\n",
    "                denominator = self.parseParenthesis()\n",
    "                if denominator == 0:\n",
    "                    raise Exception(\n",
    "                        \"Division by 0 kills baby whales (occured at index \" +\n",
    "                        str(div_index) +\n",
    "                        \")\")\n",
    "                values.append(1.0 / denominator)\n",
    "            else:\n",
    "                break\n",
    "        value = 1.0\n",
    "        for factor in values:\n",
    "            value *= factor\n",
    "        return value\n",
    "    \n",
    "    def parseParenthesis(self):\n",
    "        self.skipWhitespace()\n",
    "        char = self.peek()\n",
    "        if char == '(':\n",
    "            self.index += 1\n",
    "            value = self.parseExpression()\n",
    "            self.skipWhitespace()\n",
    "            if self.peek() != ')':\n",
    "                raise Exception(\n",
    "                    \"No closing parenthesis found at character \"\n",
    "                    + str(self.index))\n",
    "            self.index += 1\n",
    "            return value\n",
    "        else:\n",
    "            return self.parseNegative()\n",
    "    \n",
    "    def parseNegative(self):\n",
    "        self.skipWhitespace()\n",
    "        char = self.peek()\n",
    "        if char == '-':\n",
    "            self.index += 1\n",
    "            return -1 * self.parseParenthesis()\n",
    "        else:\n",
    "            return self.parseValue()\n",
    "    \n",
    "    def parseValue(self):\n",
    "        self.skipWhitespace()\n",
    "        char = self.peek()\n",
    "        if char in '0123456789.':\n",
    "            return self.parseNumber()\n",
    "        else:\n",
    "            return self.parseVariable()\n",
    "#The following class 'def parseVariable' is to ensure that     \n",
    "    def parseVariable(self):\n",
    "        self.skipWhitespace()\n",
    "        var = ''\n",
    "        while self.hasNext():\n",
    "            char = self.peek()\n",
    "            if char.lower() in '_abcdefghijklmnopqrstuvwxyz0123456789':\n",
    "                var += char\n",
    "                self.index += 1\n",
    "            else:\n",
    "                break\n",
    "        \n",
    "        value = self.vars.get(var, None)\n",
    "        if value == None:\n",
    "            raise Exception(\n",
    "                \"Unrecognized variable: '\" +\n",
    "                var +\n",
    "                \"'\")\n",
    "        return float(value)\n",
    "    \n",
    "    def parseNumber(self):\n",
    "        self.skipWhitespace()\n",
    "        strValue = ''\n",
    "        decimal_found = False\n",
    "        char = ''\n",
    "        \n",
    "        while self.hasNext():\n",
    "            char = self.peek()            \n",
    "            if char == '.':\n",
    "                if decimal_found:\n",
    "                    raise Exception(\n",
    "                        \"Found an extra period in a number at character \" +\n",
    "                        str(self.index) +\n",
    "                        \". Are you European?\")\n",
    "                decimal_found = True\n",
    "                strValue += '.'\n",
    "            elif char in '0123456789':\n",
    "                strValue += char\n",
    "            else:\n",
    "                break\n",
    "            self.index += 1\n",
    "        \n",
    "        if len(strValue) == 0:\n",
    "            if char == '':\n",
    "                raise Exception(\"Unexpected end found\")\n",
    "            else:\n",
    "                raise Exception(\n",
    "                    \"I was expecting to find a number at character \" +\n",
    "                    str(self.index) +\n",
    "                    \" but instead I found a '\" +\n",
    "                    char +\n",
    "                    \"'. What's up with that?\")\n",
    "    \n",
    "        return float(strValue)\n",
    "        \n",
    "def evaluate(expression, vars={}):\n",
    "    try:\n",
    "        p = Parser(expression, vars)\n",
    "        value = p.getValue()\n",
    "    except Exception as ex:\n",
    "        msg = ex.message\n",
    "        raise Exception(msg)\n",
    "    \n",
    "    # Return an integer type if the answer is an integer\n",
    "    if int(value) == value:\n",
    "        return int(value)\n",
    "    \n",
    "    # If Python made some silly precision error\n",
    "    # like x.99999999999996, just return x + 1 as an integer\n",
    "    epsilon = 0.0000000001\n",
    "    if int(value + epsilon) != int(value):\n",
    "        return int(value + epsilon)\n",
    "    elif int(value - epsilon) != int(value):\n",
    "        return int(value)\n",
    "    \n",
    "    return value\n",
    "\n",
    "print(evaluate(\"1 + 2 * 3\"))\n",
    "print(evaluate(\"1 * (2 + 3) - 4\"))\n",
    "print(evaluate(\"4 * (3 + 2) - 1\"))\n",
    "print(evaluate(\"2 * (6 / 3) - 1\"))"
   ]
  },
  {
   "cell_type": "code",
   "execution_count": null,
   "id": "3646ab1a-ae5f-4569-b950-6c49765e819e",
   "metadata": {},
   "outputs": [],
   "source": [
    "Other equations to test: "
   ]
  },
  {
   "cell_type": "code",
   "execution_count": null,
   "id": "70cbed12-0090-4e07-9f7a-e66cb61e8759",
   "metadata": {},
   "outputs": [],
   "source": [
    "print evaluate(\"(1 + 2) * 3\")\n",
    "print evaluate(\"-(1 + 2) * 3\")\n",
    "print evaluate(\"(1-2)/3.0 + 0.0000\")\n",
    "print evaluate(\"1 + pi / 4\")\n",
    "print evaluate(\"(a + b) / c\", { 'a':1, 'b':2, 'c':3 })\n",
    "print evaluate(\"(x + e * 10) / 10\", { 'x' : 3 })\n",
    "print evaluate(\"1.0 / 3 * 6\")\n",
    "print evaluate(\"(1 - 1 + -1) * pi\")\n",
    "print evaluate(\"pi * e\")"
   ]
  }
 ],
 "metadata": {
  "kernelspec": {
   "display_name": "Python 3",
   "language": "python",
   "name": "python3"
  },
  "language_info": {
   "codemirror_mode": {
    "name": "ipython",
    "version": 3
   },
   "file_extension": ".py",
   "mimetype": "text/x-python",
   "name": "python",
   "nbconvert_exporter": "python",
   "pygments_lexer": "ipython3",
   "version": "3.9.5"
  }
 },
 "nbformat": 4,
 "nbformat_minor": 5
}
